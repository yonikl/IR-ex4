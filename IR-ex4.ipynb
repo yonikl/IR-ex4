{
 "cells": [
  {
   "metadata": {
    "ExecuteTime": {
     "end_time": "2025-02-09T14:23:18.736699Z",
     "start_time": "2025-02-09T14:23:18.656125Z"
    }
   },
   "cell_type": "code",
   "source": [
    "import pandas as pd\n",
    "from tqdm.auto import tqdm\n",
    "\n",
    "df = pd.read_csv('csv1.csv')"
   ],
   "id": "a6207fe9d549c6fc",
   "outputs": [],
   "execution_count": 327
  },
  {
   "metadata": {
    "ExecuteTime": {
     "end_time": "2025-02-09T14:23:18.767058Z",
     "start_time": "2025-02-09T14:23:18.747069Z"
    }
   },
   "cell_type": "code",
   "source": "df.head()",
   "id": "ed8b8a5df329707a",
   "outputs": [
    {
     "data": {
      "text/plain": [
       "  paper  article_index                                           sentence I/P  \\\n",
       "0   A-J              0  pope francis has renewed calls for an immediat...   P   \n",
       "1   A-J              0  pope renews call for gaza ceasefire, release o...   P   \n",
       "2   A-J              1  united states president ronald reagan’s order ...   I   \n",
       "3   A-J              1  biden is still the best us president israel co...   I   \n",
       "4   A-J              2  israeli air strikes continue across gaza as tr...   P   \n",
       "\n",
       "   model1 score model1 label  model2 score model2 label  model3 score  \\\n",
       "0      0.801705          POS      0.432372          POS      0.407419   \n",
       "1      0.791487          NUT      0.468124          NEG      0.724179   \n",
       "2      0.783303          NUT      0.276533          POS      0.702795   \n",
       "3      0.968796          POS      0.715602          POS      0.577471   \n",
       "4      0.722233          NEG      0.258997          POS      0.868871   \n",
       "\n",
       "  model3 label  ...  model5 score model5 label  model6 score model6 label  \\\n",
       "0          NUT  ...      0.461482          NEG      0.716461          POS   \n",
       "1          NEG  ...      0.472699          NEG      0.920949          NUT   \n",
       "2          NEG  ...      0.501513          NEG      0.702552          NUT   \n",
       "3          POS  ...      0.811250          POS      0.987807          POS   \n",
       "4          NEG  ...      0.472687          NEG      0.928277          NEG   \n",
       "\n",
       "   model7 score model7 label  majority absolute-majority AVG-majority-score  \\\n",
       "0      0.997451          NUT       POS               POS           0.737294   \n",
       "1      0.998320          NUT       NaN               NaN                NaN   \n",
       "2      0.994342          NUT       NUT               NaN           0.826732   \n",
       "3      0.999273          POS       POS               POS           0.865553   \n",
       "4      0.995305          NUT       NEG               NEG           0.797589   \n",
       "\n",
       "  AVG-absolute-majority-score  \n",
       "0                    0.737294  \n",
       "1                         NaN  \n",
       "2                         NaN  \n",
       "3                    0.865553  \n",
       "4                    0.797589  \n",
       "\n",
       "[5 rows x 22 columns]"
      ],
      "text/html": [
       "<div>\n",
       "<style scoped>\n",
       "    .dataframe tbody tr th:only-of-type {\n",
       "        vertical-align: middle;\n",
       "    }\n",
       "\n",
       "    .dataframe tbody tr th {\n",
       "        vertical-align: top;\n",
       "    }\n",
       "\n",
       "    .dataframe thead th {\n",
       "        text-align: right;\n",
       "    }\n",
       "</style>\n",
       "<table border=\"1\" class=\"dataframe\">\n",
       "  <thead>\n",
       "    <tr style=\"text-align: right;\">\n",
       "      <th></th>\n",
       "      <th>paper</th>\n",
       "      <th>article_index</th>\n",
       "      <th>sentence</th>\n",
       "      <th>I/P</th>\n",
       "      <th>model1 score</th>\n",
       "      <th>model1 label</th>\n",
       "      <th>model2 score</th>\n",
       "      <th>model2 label</th>\n",
       "      <th>model3 score</th>\n",
       "      <th>model3 label</th>\n",
       "      <th>...</th>\n",
       "      <th>model5 score</th>\n",
       "      <th>model5 label</th>\n",
       "      <th>model6 score</th>\n",
       "      <th>model6 label</th>\n",
       "      <th>model7 score</th>\n",
       "      <th>model7 label</th>\n",
       "      <th>majority</th>\n",
       "      <th>absolute-majority</th>\n",
       "      <th>AVG-majority-score</th>\n",
       "      <th>AVG-absolute-majority-score</th>\n",
       "    </tr>\n",
       "  </thead>\n",
       "  <tbody>\n",
       "    <tr>\n",
       "      <th>0</th>\n",
       "      <td>A-J</td>\n",
       "      <td>0</td>\n",
       "      <td>pope francis has renewed calls for an immediat...</td>\n",
       "      <td>P</td>\n",
       "      <td>0.801705</td>\n",
       "      <td>POS</td>\n",
       "      <td>0.432372</td>\n",
       "      <td>POS</td>\n",
       "      <td>0.407419</td>\n",
       "      <td>NUT</td>\n",
       "      <td>...</td>\n",
       "      <td>0.461482</td>\n",
       "      <td>NEG</td>\n",
       "      <td>0.716461</td>\n",
       "      <td>POS</td>\n",
       "      <td>0.997451</td>\n",
       "      <td>NUT</td>\n",
       "      <td>POS</td>\n",
       "      <td>POS</td>\n",
       "      <td>0.737294</td>\n",
       "      <td>0.737294</td>\n",
       "    </tr>\n",
       "    <tr>\n",
       "      <th>1</th>\n",
       "      <td>A-J</td>\n",
       "      <td>0</td>\n",
       "      <td>pope renews call for gaza ceasefire, release o...</td>\n",
       "      <td>P</td>\n",
       "      <td>0.791487</td>\n",
       "      <td>NUT</td>\n",
       "      <td>0.468124</td>\n",
       "      <td>NEG</td>\n",
       "      <td>0.724179</td>\n",
       "      <td>NEG</td>\n",
       "      <td>...</td>\n",
       "      <td>0.472699</td>\n",
       "      <td>NEG</td>\n",
       "      <td>0.920949</td>\n",
       "      <td>NUT</td>\n",
       "      <td>0.998320</td>\n",
       "      <td>NUT</td>\n",
       "      <td>NaN</td>\n",
       "      <td>NaN</td>\n",
       "      <td>NaN</td>\n",
       "      <td>NaN</td>\n",
       "    </tr>\n",
       "    <tr>\n",
       "      <th>2</th>\n",
       "      <td>A-J</td>\n",
       "      <td>1</td>\n",
       "      <td>united states president ronald reagan’s order ...</td>\n",
       "      <td>I</td>\n",
       "      <td>0.783303</td>\n",
       "      <td>NUT</td>\n",
       "      <td>0.276533</td>\n",
       "      <td>POS</td>\n",
       "      <td>0.702795</td>\n",
       "      <td>NEG</td>\n",
       "      <td>...</td>\n",
       "      <td>0.501513</td>\n",
       "      <td>NEG</td>\n",
       "      <td>0.702552</td>\n",
       "      <td>NUT</td>\n",
       "      <td>0.994342</td>\n",
       "      <td>NUT</td>\n",
       "      <td>NUT</td>\n",
       "      <td>NaN</td>\n",
       "      <td>0.826732</td>\n",
       "      <td>NaN</td>\n",
       "    </tr>\n",
       "    <tr>\n",
       "      <th>3</th>\n",
       "      <td>A-J</td>\n",
       "      <td>1</td>\n",
       "      <td>biden is still the best us president israel co...</td>\n",
       "      <td>I</td>\n",
       "      <td>0.968796</td>\n",
       "      <td>POS</td>\n",
       "      <td>0.715602</td>\n",
       "      <td>POS</td>\n",
       "      <td>0.577471</td>\n",
       "      <td>POS</td>\n",
       "      <td>...</td>\n",
       "      <td>0.811250</td>\n",
       "      <td>POS</td>\n",
       "      <td>0.987807</td>\n",
       "      <td>POS</td>\n",
       "      <td>0.999273</td>\n",
       "      <td>POS</td>\n",
       "      <td>POS</td>\n",
       "      <td>POS</td>\n",
       "      <td>0.865553</td>\n",
       "      <td>0.865553</td>\n",
       "    </tr>\n",
       "    <tr>\n",
       "      <th>4</th>\n",
       "      <td>A-J</td>\n",
       "      <td>2</td>\n",
       "      <td>israeli air strikes continue across gaza as tr...</td>\n",
       "      <td>P</td>\n",
       "      <td>0.722233</td>\n",
       "      <td>NEG</td>\n",
       "      <td>0.258997</td>\n",
       "      <td>POS</td>\n",
       "      <td>0.868871</td>\n",
       "      <td>NEG</td>\n",
       "      <td>...</td>\n",
       "      <td>0.472687</td>\n",
       "      <td>NEG</td>\n",
       "      <td>0.928277</td>\n",
       "      <td>NEG</td>\n",
       "      <td>0.995305</td>\n",
       "      <td>NUT</td>\n",
       "      <td>NEG</td>\n",
       "      <td>NEG</td>\n",
       "      <td>0.797589</td>\n",
       "      <td>0.797589</td>\n",
       "    </tr>\n",
       "  </tbody>\n",
       "</table>\n",
       "<p>5 rows × 22 columns</p>\n",
       "</div>"
      ]
     },
     "execution_count": 328,
     "metadata": {},
     "output_type": "execute_result"
    }
   ],
   "execution_count": 328
  },
  {
   "metadata": {
    "ExecuteTime": {
     "end_time": "2025-02-09T14:23:18.865555Z",
     "start_time": "2025-02-09T14:23:18.859556Z"
    }
   },
   "cell_type": "code",
   "source": [
    "# Label normalization\n",
    "positive_labels = ['POSITIVE', 'positive', '4 stars', '5 stars', 'POS']\n",
    "negative_labels = ['NEGATIVE', 'negative', '1 star', '2 stars', 'NEG']\n",
    "\n",
    "def normalize_label(label):\n",
    "    if label in positive_labels:\n",
    "        return 'POS'\n",
    "    elif label in negative_labels:\n",
    "        return 'NEG'\n",
    "    else:\n",
    "        return 'NUT'"
   ],
   "id": "c6b52e51e001b6a4",
   "outputs": [],
   "execution_count": 329
  },
  {
   "metadata": {
    "ExecuteTime": {
     "end_time": "2025-02-09T14:23:18.933214Z",
     "start_time": "2025-02-09T14:23:18.927218Z"
    }
   },
   "cell_type": "code",
   "source": [
    "def get_classification(row):\n",
    "    labels_counts = {'POS':0, 'NEG':0, 'NUT':0}\n",
    "    for key, value in row.items():\n",
    "        if 'label' in key:\n",
    "            labels_counts[normalize_label(value)] += 1\n",
    "    if labels_counts['POS'] >= 6 or (labels_counts['POS'] >= 5 and labels_counts['NEG'] == 0):\n",
    "        return 'POS'\n",
    "    elif labels_counts['NEG'] >= 6 or (labels_counts['NEG'] >= 5 and labels_counts['POS'] == 0):\n",
    "        return 'NEG'\n",
    "    elif labels_counts['NUT'] >= 6 or (labels_counts['NUT'] >= 5 and labels_counts['POS'] == 1 and labels_counts['NEG'] == 1):\n",
    "        return 'NUT'\n",
    "    else:\n",
    "        return 'N/A'\n",
    "\n"
   ],
   "id": "cbdda3362ff865c2",
   "outputs": [],
   "execution_count": 330
  },
  {
   "metadata": {
    "ExecuteTime": {
     "end_time": "2025-02-09T14:23:19.101753Z",
     "start_time": "2025-02-09T14:23:19.094379Z"
    }
   },
   "cell_type": "code",
   "source": [
    "break_point = int(df.shape[0] * 0.82)\n",
    "train_df = df.iloc[:break_point]\n",
    "test_df = df.iloc[break_point:]"
   ],
   "id": "a8404e2bbd603222",
   "outputs": [],
   "execution_count": 331
  },
  {
   "metadata": {
    "ExecuteTime": {
     "end_time": "2025-02-09T14:23:20.084575Z",
     "start_time": "2025-02-09T14:23:19.173926Z"
    }
   },
   "cell_type": "code",
   "source": [
    "def categorize_df(df):\n",
    "    categories = {\n",
    "        'pro_i': [],\n",
    "        'pro_p': [],\n",
    "        'anti_i': [],\n",
    "        'anti_p': [],\n",
    "        'neutral': []\n",
    "    }\n",
    "\n",
    "    for index, row in df.iterrows():\n",
    "        classification = get_classification(row)\n",
    "        if classification != 'N/A':\n",
    "            if classification == 'POS':\n",
    "                if row['I/P'] == 'I':\n",
    "                    categories['pro_i'].append(row['sentence'])\n",
    "                elif row['I/P'] == 'P':\n",
    "                    categories['pro_p'].append(row['sentence'])\n",
    "            elif classification == 'NEG':\n",
    "                if row['I/P'] == 'I':\n",
    "                    categories['anti_i'].append(row['sentence'])\n",
    "                elif row['I/P'] == 'P':\n",
    "                    categories['anti_p'].append(row['sentence'])\n",
    "            elif classification == 'NUT':\n",
    "                categories['neutral'].append(row['sentence'])\n",
    "\n",
    "    # Print the counts\n",
    "    print(len(categories['pro_i']), len(categories['pro_p']), len(categories['anti_i']), len(categories['anti_p']), len(categories['neutral']))\n",
    "\n",
    "    min_length = min(len(lst) for lst in categories.values())\n",
    "\n",
    "    # Truncate all lists to the minimum length\n",
    "    for key in categories:\n",
    "        categories[key] = categories[key][:min_length]\n",
    "\n",
    "    # Print the counts and truncated lists\n",
    "    print(len(categories['pro_i']), len(categories['pro_p']), len(categories['anti_i']), len(categories['anti_p']), len(categories['neutral']))\n",
    "    return categories\n",
    "\n",
    "train_categories = categorize_df(train_df)\n",
    "test_categories = categorize_df(test_df)"
   ],
   "id": "1955283b5292f035",
   "outputs": [
    {
     "name": "stdout",
     "output_type": "stream",
     "text": [
      "226 73 2557 1487 210\n",
      "73 73 73 73 73\n",
      "53 13 480 287 57\n",
      "13 13 13 13 13\n"
     ]
    }
   ],
   "execution_count": 332
  },
  {
   "metadata": {
    "ExecuteTime": {
     "end_time": "2025-02-09T14:23:20.109718Z",
     "start_time": "2025-02-09T14:23:20.103625Z"
    }
   },
   "cell_type": "code",
   "source": [
    "from transformers import DistilBertTokenizer, DistilBertForSequenceClassification, Trainer, TrainingArguments\n",
    "from datasets import Dataset\n",
    "import torch"
   ],
   "id": "5c0a7c8867621bf1",
   "outputs": [],
   "execution_count": 333
  },
  {
   "metadata": {
    "ExecuteTime": {
     "end_time": "2025-02-09T14:23:20.213740Z",
     "start_time": "2025-02-09T14:23:20.207070Z"
    }
   },
   "cell_type": "code",
   "source": [
    "device = torch.device('cuda' if torch.cuda.is_available() else 'cpu')\n",
    "print(device)"
   ],
   "id": "edc7656d2313092a",
   "outputs": [
    {
     "name": "stdout",
     "output_type": "stream",
     "text": [
      "cuda\n"
     ]
    }
   ],
   "execution_count": 334
  },
  {
   "metadata": {
    "ExecuteTime": {
     "end_time": "2025-02-09T14:23:20.233191Z",
     "start_time": "2025-02-09T14:23:20.225789Z"
    }
   },
   "cell_type": "code",
   "source": [
    "# Define label mapping\n",
    "label_mapping = {\"pro_i\": 0, \"pro_p\": 1, \"anti_i\": 2, \"anti_p\": 3, \"neutral\": 4}\n",
    "def flatten_dict(dictionary):\n",
    "    # Flatten the dictionary into texts and labels\n",
    "    texts = []\n",
    "    labels = []\n",
    "\n",
    "    for category, sentences in dictionary.items():\n",
    "        texts.extend(sentences)\n",
    "        labels.extend([label_mapping[category]] * len(sentences))\n",
    "\n",
    "    return texts, labels\n",
    "\n",
    "train_texts, train_labels = flatten_dict(train_categories)\n",
    "test_texts, test_labels = flatten_dict(test_categories)"
   ],
   "id": "39b6eeb4d0edc561",
   "outputs": [],
   "execution_count": 335
  },
  {
   "metadata": {
    "ExecuteTime": {
     "end_time": "2025-02-09T14:23:20.379032Z",
     "start_time": "2025-02-09T14:23:20.371805Z"
    }
   },
   "cell_type": "code",
   "source": [
    "from sklearn.model_selection import train_test_split\n",
    "\n",
    "train_texts, val_texts, train_labels, val_labels = train_test_split (\n",
    "    train_texts, train_labels, train_size=0.85, random_state=42, shuffle=True\n",
    ")"
   ],
   "id": "524d0e92ce1aac2",
   "outputs": [],
   "execution_count": 336
  },
  {
   "metadata": {
    "ExecuteTime": {
     "end_time": "2025-02-09T14:23:20.893035Z",
     "start_time": "2025-02-09T14:23:20.420142Z"
    }
   },
   "cell_type": "code",
   "source": [
    "from transformers import AutoTokenizer\n",
    "\n",
    "model_name = \"distilbert-base-uncased\"\n",
    "tokenizer = AutoTokenizer.from_pretrained(model_name)\n",
    "\n",
    "def tokenize_function(examples):\n",
    "    return tokenizer(examples[\"text\"], padding=\"max_length\", truncation=True, max_length=128)\n",
    "\n",
    "\n",
    "train_data = Dataset.from_dict({\"text\": train_texts, \"label\": train_labels})\n",
    "val_data = Dataset.from_dict({\"text\": val_texts, \"label\": val_labels})\n",
    "\n",
    "train_data_tokenized = train_data.map(tokenize_function, batched=True)\n",
    "val_data_tokenized = val_data.map(tokenize_function, batched=True)\n",
    "\n",
    "train_data_tokenized.set_format(type=\"torch\", columns=[\"input_ids\", \"attention_mask\", \"label\"])\n",
    "val_data_tokenized.set_format(type=\"torch\", columns=[\"input_ids\", \"attention_mask\", \"label\"])"
   ],
   "id": "a8abec75399c51d8",
   "outputs": [
    {
     "name": "stderr",
     "output_type": "stream",
     "text": [
      "Map: 100%|██████████| 310/310 [00:00<00:00, 4350.84 examples/s]\n",
      "Map: 100%|██████████| 55/55 [00:00<00:00, 3226.70 examples/s]\n"
     ]
    }
   ],
   "execution_count": 337
  },
  {
   "metadata": {
    "ExecuteTime": {
     "end_time": "2025-02-09T14:23:21.185544Z",
     "start_time": "2025-02-09T14:23:20.948959Z"
    }
   },
   "cell_type": "code",
   "source": [
    "from transformers import AutoModelForSequenceClassification\n",
    "\n",
    "# Load DistilBERT for sequence classification (5 categories)\n",
    "model = AutoModelForSequenceClassification.from_pretrained(model_name, num_labels=5)\n"
   ],
   "id": "416af0d96c5c6e8d",
   "outputs": [
    {
     "name": "stderr",
     "output_type": "stream",
     "text": [
      "Some weights of DistilBertForSequenceClassification were not initialized from the model checkpoint at distilbert-base-uncased and are newly initialized: ['classifier.bias', 'classifier.weight', 'pre_classifier.bias', 'pre_classifier.weight']\n",
      "You should probably TRAIN this model on a down-stream task to be able to use it for predictions and inference.\n"
     ]
    }
   ],
   "execution_count": 338
  },
  {
   "metadata": {
    "ExecuteTime": {
     "end_time": "2025-02-09T14:23:21.366674Z",
     "start_time": "2025-02-09T14:23:21.278413Z"
    }
   },
   "cell_type": "code",
   "source": [
    "training_args = TrainingArguments(\n",
    "    output_dir=\"./results\",\n",
    "    eval_strategy=\"epoch\",\n",
    "    learning_rate=2e-5,\n",
    "    per_device_train_batch_size=16,\n",
    "    per_device_eval_batch_size=16,\n",
    "    num_train_epochs=10,\n",
    "    weight_decay=0.01,\n",
    "    save_strategy=\"epoch\",\n",
    "    save_total_limit=2,\n",
    "    load_best_model_at_end=True,\n",
    "    logging_dir=\"./logs\",\n",
    "    logging_steps=100,\n",
    ")\n"
   ],
   "id": "1c357192441c2b78",
   "outputs": [],
   "execution_count": 339
  },
  {
   "metadata": {
    "ExecuteTime": {
     "end_time": "2025-02-09T14:24:28.611785Z",
     "start_time": "2025-02-09T14:23:21.388715Z"
    }
   },
   "cell_type": "code",
   "source": [
    "trainer = Trainer(\n",
    "    model=model,\n",
    "    args=training_args,\n",
    "    train_dataset=train_data_tokenized,\n",
    "    eval_dataset=val_data_tokenized,\n",
    ")\n",
    "trainer.train()"
   ],
   "id": "114bf2f5d7b16394",
   "outputs": [
    {
     "data": {
      "text/plain": [
       "<IPython.core.display.HTML object>"
      ],
      "text/html": [
       "\n",
       "    <div>\n",
       "      \n",
       "      <progress value='200' max='200' style='width:300px; height:20px; vertical-align: middle;'></progress>\n",
       "      [200/200 01:06, Epoch 10/10]\n",
       "    </div>\n",
       "    <table border=\"1\" class=\"dataframe\">\n",
       "  <thead>\n",
       " <tr style=\"text-align: left;\">\n",
       "      <th>Epoch</th>\n",
       "      <th>Training Loss</th>\n",
       "      <th>Validation Loss</th>\n",
       "    </tr>\n",
       "  </thead>\n",
       "  <tbody>\n",
       "    <tr>\n",
       "      <td>1</td>\n",
       "      <td>No log</td>\n",
       "      <td>1.523429</td>\n",
       "    </tr>\n",
       "    <tr>\n",
       "      <td>2</td>\n",
       "      <td>No log</td>\n",
       "      <td>1.260421</td>\n",
       "    </tr>\n",
       "    <tr>\n",
       "      <td>3</td>\n",
       "      <td>No log</td>\n",
       "      <td>0.970040</td>\n",
       "    </tr>\n",
       "    <tr>\n",
       "      <td>4</td>\n",
       "      <td>No log</td>\n",
       "      <td>0.809089</td>\n",
       "    </tr>\n",
       "    <tr>\n",
       "      <td>5</td>\n",
       "      <td>1.095500</td>\n",
       "      <td>0.732613</td>\n",
       "    </tr>\n",
       "    <tr>\n",
       "      <td>6</td>\n",
       "      <td>1.095500</td>\n",
       "      <td>0.701658</td>\n",
       "    </tr>\n",
       "    <tr>\n",
       "      <td>7</td>\n",
       "      <td>1.095500</td>\n",
       "      <td>0.680978</td>\n",
       "    </tr>\n",
       "    <tr>\n",
       "      <td>8</td>\n",
       "      <td>1.095500</td>\n",
       "      <td>0.668211</td>\n",
       "    </tr>\n",
       "    <tr>\n",
       "      <td>9</td>\n",
       "      <td>1.095500</td>\n",
       "      <td>0.657817</td>\n",
       "    </tr>\n",
       "    <tr>\n",
       "      <td>10</td>\n",
       "      <td>0.370200</td>\n",
       "      <td>0.657469</td>\n",
       "    </tr>\n",
       "  </tbody>\n",
       "</table><p>"
      ]
     },
     "metadata": {},
     "output_type": "display_data"
    },
    {
     "data": {
      "text/plain": [
       "TrainOutput(global_step=200, training_loss=0.732823314666748, metrics={'train_runtime': 66.515, 'train_samples_per_second': 46.606, 'train_steps_per_second': 3.007, 'total_flos': 102667726464000.0, 'train_loss': 0.732823314666748, 'epoch': 10.0})"
      ]
     },
     "execution_count": 340,
     "metadata": {},
     "output_type": "execute_result"
    }
   ],
   "execution_count": 340
  },
  {
   "metadata": {
    "ExecuteTime": {
     "end_time": "2025-02-09T14:24:29.077028Z",
     "start_time": "2025-02-09T14:24:28.713482Z"
    }
   },
   "cell_type": "code",
   "source": [
    "model.save_pretrained(\"./fine_tuned_bert\")\n",
    "tokenizer.save_pretrained(\"./fine_tuned_bert\")"
   ],
   "id": "926d37b44d48f591",
   "outputs": [
    {
     "data": {
      "text/plain": [
       "('./fine_tuned_bert\\\\tokenizer_config.json',\n",
       " './fine_tuned_bert\\\\special_tokens_map.json',\n",
       " './fine_tuned_bert\\\\vocab.txt',\n",
       " './fine_tuned_bert\\\\added_tokens.json',\n",
       " './fine_tuned_bert\\\\tokenizer.json')"
      ]
     },
     "execution_count": 341,
     "metadata": {},
     "output_type": "execute_result"
    }
   ],
   "execution_count": 341
  },
  {
   "metadata": {
    "ExecuteTime": {
     "end_time": "2025-02-09T14:24:29.941814Z",
     "start_time": "2025-02-09T14:24:29.084038Z"
    }
   },
   "cell_type": "code",
   "source": [
    "from transformers import pipeline\n",
    "\n",
    "test_sentiment_model = pipeline(\"sentiment-analysis\", model=\"./fine_tuned_bert\")\n",
    "\n",
    "test_results = test_sentiment_model(test_texts)"
   ],
   "id": "da0d8806d7be4346",
   "outputs": [
    {
     "name": "stderr",
     "output_type": "stream",
     "text": [
      "Device set to use cuda:0\n"
     ]
    }
   ],
   "execution_count": 342
  },
  {
   "metadata": {
    "ExecuteTime": {
     "end_time": "2025-02-09T14:24:29.984339Z",
     "start_time": "2025-02-09T14:24:29.978222Z"
    }
   },
   "cell_type": "code",
   "source": [
    "predicted_labels = [int(result['label'].split('_')[-1]) for result in test_results]\n",
    "predicted_labels"
   ],
   "id": "5fa01bd0a2841886",
   "outputs": [
    {
     "data": {
      "text/plain": [
       "[1,\n",
       " 1,\n",
       " 1,\n",
       " 1,\n",
       " 0,\n",
       " 1,\n",
       " 1,\n",
       " 1,\n",
       " 0,\n",
       " 0,\n",
       " 1,\n",
       " 1,\n",
       " 0,\n",
       " 1,\n",
       " 1,\n",
       " 1,\n",
       " 1,\n",
       " 1,\n",
       " 1,\n",
       " 1,\n",
       " 1,\n",
       " 1,\n",
       " 1,\n",
       " 1,\n",
       " 1,\n",
       " 0,\n",
       " 2,\n",
       " 1,\n",
       " 2,\n",
       " 2,\n",
       " 4,\n",
       " 2,\n",
       " 2,\n",
       " 4,\n",
       " 0,\n",
       " 2,\n",
       " 2,\n",
       " 1,\n",
       " 1,\n",
       " 2,\n",
       " 1,\n",
       " 3,\n",
       " 4,\n",
       " 3,\n",
       " 2,\n",
       " 1,\n",
       " 1,\n",
       " 4,\n",
       " 3,\n",
       " 2,\n",
       " 4,\n",
       " 2,\n",
       " 4,\n",
       " 4,\n",
       " 4,\n",
       " 4,\n",
       " 4,\n",
       " 0,\n",
       " 1,\n",
       " 4,\n",
       " 4,\n",
       " 4,\n",
       " 1,\n",
       " 1,\n",
       " 3]"
      ]
     },
     "execution_count": 343,
     "metadata": {},
     "output_type": "execute_result"
    }
   ],
   "execution_count": 343
  },
  {
   "metadata": {
    "ExecuteTime": {
     "end_time": "2025-02-09T14:24:30.065809Z",
     "start_time": "2025-02-09T14:24:30.051251Z"
    }
   },
   "cell_type": "code",
   "source": [
    "from sklearn.metrics import accuracy_score, classification_report\n",
    "accuracy = accuracy_score(test_labels, predicted_labels)\n",
    "print(f\"Accuracy: {accuracy:.4f}\")\n",
    "\n",
    "# Generate a detailed classification report\n",
    "report = classification_report(test_labels, predicted_labels, target_names=[\"pro_i\", \"pro_p\", \"anti_i\", \"anti_p\", \"neutral\"])\n",
    "print(report)"
   ],
   "id": "78cdda855abbc199",
   "outputs": [
    {
     "name": "stdout",
     "output_type": "stream",
     "text": [
      "Accuracy: 0.5231\n",
      "              precision    recall  f1-score   support\n",
      "\n",
      "       pro_i       0.57      0.31      0.40        13\n",
      "       pro_p       0.40      0.92      0.56        13\n",
      "      anti_i       0.64      0.54      0.58        13\n",
      "      anti_p       0.75      0.23      0.35        13\n",
      "     neutral       0.62      0.62      0.62        13\n",
      "\n",
      "    accuracy                           0.52        65\n",
      "   macro avg       0.59      0.52      0.50        65\n",
      "weighted avg       0.59      0.52      0.50        65\n",
      "\n"
     ]
    }
   ],
   "execution_count": 344
  },
  {
   "metadata": {
    "ExecuteTime": {
     "end_time": "2025-02-09T14:24:30.086894Z",
     "start_time": "2025-02-09T14:24:30.081333Z"
    }
   },
   "cell_type": "code",
   "source": [
    "correct = {\n",
    "        'pro_i': [],\n",
    "        'pro_p': [],\n",
    "        'anti_i': [],\n",
    "        'anti_p': [],\n",
    "        'neutral': []\n",
    "    }\n",
    "\n",
    "not_correct = {\n",
    "        'pro_i': [],\n",
    "        'pro_p': [],\n",
    "        'anti_i': [],\n",
    "        'anti_p': [],\n",
    "        'neutral': []\n",
    "    }\n",
    "numbers_mapping = {0: \"pro_i\", 1: \"pro_p\", 2: \"anti_i\", 3: \"anti_p\", 4: \"neutral\"}\n",
    "test_texts_res = [text + ' Score: ' + str(res[\"score\"]) + 'Label' + numbers_mapping[int(res['label'].split('_')[-1])] for text, res in zip(test_texts, test_results)]\n",
    "\n",
    "for text, label, prediction in zip(test_texts_res, test_labels, predicted_labels):\n",
    "    if prediction == label:\n",
    "        correct[numbers_mapping[label]].append(text)\n",
    "    else:\n",
    "        not_correct[numbers_mapping[label]].append(text)"
   ],
   "id": "5a18ef00b8247eb1",
   "outputs": [],
   "execution_count": 345
  },
  {
   "metadata": {
    "ExecuteTime": {
     "end_time": "2025-02-09T14:24:30.154555Z",
     "start_time": "2025-02-09T14:24:30.122297Z"
    }
   },
   "cell_type": "code",
   "source": [
    "max_length = max(len(lst) for lst in correct.values())\n",
    "\n",
    "padded_data = {}\n",
    "for key, lst in correct.items():\n",
    "    padded_data[key] = lst + [None]*(max_length - len(lst))\n",
    "\n",
    "df = pd.DataFrame(padded_data)\n",
    "df.to_excel(\"correct.xlsx\", index=False)"
   ],
   "id": "f8c501835d1d5e4c",
   "outputs": [],
   "execution_count": 346
  },
  {
   "metadata": {
    "ExecuteTime": {
     "end_time": "2025-02-09T14:24:30.216899Z",
     "start_time": "2025-02-09T14:24:30.185330Z"
    }
   },
   "cell_type": "code",
   "source": [
    "max_length = max(len(lst) for lst in not_correct.values())\n",
    "\n",
    "padded_data = {}\n",
    "for key, lst in not_correct.items():\n",
    "    padded_data[key] = lst + [None]*(max_length - len(lst))\n",
    "\n",
    "df = pd.DataFrame(padded_data)\n",
    "df.to_excel(\"not_correct.xlsx\", index=False)"
   ],
   "id": "f1d171cd4316bd5f",
   "outputs": [],
   "execution_count": 347
  },
  {
   "metadata": {
    "ExecuteTime": {
     "end_time": "2025-02-09T14:24:30.255653Z",
     "start_time": "2025-02-09T14:24:30.250144Z"
    }
   },
   "cell_type": "code",
   "source": [
    "def get_highest_label(label_counts):\n",
    "\n",
    "    # Find the maximum value in the dictionary\n",
    "    max_value = max(label_counts.values())\n",
    "\n",
    "    # Find all keys with the maximum value\n",
    "    highest_labels = [key for key, value in label_counts.items() if value == max_value]\n",
    "\n",
    "    # Return the label if there is only one; otherwise, return 'N/A' for ties\n",
    "    return highest_labels[0] if len(highest_labels) == 1 else 'N/A'"
   ],
   "id": "81237d4c45b092f1",
   "outputs": [],
   "execution_count": 348
  },
  {
   "metadata": {
    "ExecuteTime": {
     "end_time": "2025-02-09T14:29:57.941098Z",
     "start_time": "2025-02-09T14:29:57.935517Z"
    }
   },
   "cell_type": "code",
   "source": [
    "def rank_article(article, split_by = '.'):\n",
    "    res_dict = {\n",
    "        'pro_i': 0,\n",
    "        'pro_p': 0,\n",
    "        'anti_i': 0,\n",
    "        'anti_p': 0,\n",
    "        'neutral': 0\n",
    "    }\n",
    "    res_score_dict = {\n",
    "        'pro_i': 0,\n",
    "        'pro_p': 0,\n",
    "        'anti_i': 0,\n",
    "        'anti_p': 0,\n",
    "        'neutral': 0\n",
    "    }\n",
    "\n",
    "\n",
    "    sentences = sum([text.split(split_by) for text in article], [])\n",
    "\n",
    "    result = test_sentiment_model(sentences)\n",
    "    for res in result:\n",
    "        res_dict[numbers_mapping[int(res[\"label\"].split('_')[-1])]] += 1\n",
    "        res_score_dict[numbers_mapping[int(res[\"label\"].split('_')[-1])]] += res[\"score\"]\n",
    "\n",
    "    max_value = max(res_dict.values())\n",
    "\n",
    "    highest_labels = [key for key, value in res_dict.items() if value == max_value]\n",
    "\n",
    "\n",
    "    if len(highest_labels) == 1:\n",
    "        return highest_labels[0], res_score_dict[highest_labels[0]] / res_dict[highest_labels[0]]\n",
    "    else:\n",
    "        return 'N/A', 0"
   ],
   "id": "dbfdbd834d82150c",
   "outputs": [],
   "execution_count": 352
  },
  {
   "metadata": {
    "ExecuteTime": {
     "end_time": "2025-02-09T14:24:30.706301Z",
     "start_time": "2025-02-09T14:24:30.329686Z"
    }
   },
   "cell_type": "code",
   "source": [
    "import pandas as pd\n",
    "df = pd.read_excel('posts_first_targil.xlsx', sheet_name=None)\n",
    "df['J-P'].rename(columns={'Body': 'Body Text'}, inplace=True)\n",
    "papers = {sheet_name: [] for sheet_name, _ in df.items()}\n",
    "for sheet_name, sheet_df in df.items():\n",
    "    for index, row in sheet_df.iterrows():\n",
    "        article = []\n",
    "        if pd.notna(row['Body Text']):\n",
    "            article.append(row['Body Text'].lower())\n",
    "\n",
    "        if pd.notna(row['title']):\n",
    "            article.append(row['title'].lower())\n",
    "\n",
    "        if sheet_name == 'A-J' and pd.notna(row['sub_title']):\n",
    "            article.append(row['sub_title'].lower())\n",
    "\n",
    "        papers[sheet_name].append(article)"
   ],
   "id": "d5471bd9b649473a",
   "outputs": [],
   "execution_count": 350
  },
  {
   "metadata": {
    "ExecuteTime": {
     "end_time": "2025-02-09T14:36:42.527382Z",
     "start_time": "2025-02-09T14:30:00.793668Z"
    }
   },
   "cell_type": "code",
   "source": [
    "papers_res = {}\n",
    "articles_res = {\n",
    "        'pro_i': [],\n",
    "        'pro_p': [],\n",
    "        'anti_i': [],\n",
    "        'anti_p': [],\n",
    "        'neutral': []\n",
    "    }\n",
    "for sheet_name, articles in papers.items():\n",
    "\n",
    "    res_dict = {\n",
    "        'pro_i': 0,\n",
    "        'pro_p': 0,\n",
    "        'anti_i': 0,\n",
    "        'anti_p': 0,\n",
    "        'neutral': 0\n",
    "    }\n",
    "    for article in tqdm(articles):\n",
    "        label, score = rank_article(article)\n",
    "\n",
    "        if label != 'N/A':\n",
    "            res_dict[label] += 1\n",
    "            articles_res[label].append(f'{article} label: {label} score: {score}')\n",
    "\n",
    "    max_value = max(res_dict.values())\n",
    "\n",
    "    highest_labels = [key for key, value in res_dict.items() if value == max_value]\n",
    "\n",
    "    print(f'{sheet_name} {highest_labels}')\n",
    "\n",
    "    papers_res[sheet_name] = res_dict\n"
   ],
   "id": "d1a3a6bd0a2e9a4a",
   "outputs": [
    {
     "name": "stderr",
     "output_type": "stream",
     "text": [
      "100%|██████████| 599/599 [00:13<00:00, 45.41it/s]\n"
     ]
    },
    {
     "name": "stdout",
     "output_type": "stream",
     "text": [
      "A-J ['neutral']\n"
     ]
    },
    {
     "name": "stderr",
     "output_type": "stream",
     "text": [
      "100%|██████████| 549/549 [02:34<00:00,  3.56it/s]\n"
     ]
    },
    {
     "name": "stdout",
     "output_type": "stream",
     "text": [
      "BBC ['neutral']\n"
     ]
    },
    {
     "name": "stderr",
     "output_type": "stream",
     "text": [
      "100%|██████████| 599/599 [02:52<00:00,  3.47it/s]\n"
     ]
    },
    {
     "name": "stdout",
     "output_type": "stream",
     "text": [
      "J-P ['neutral']\n"
     ]
    },
    {
     "name": "stderr",
     "output_type": "stream",
     "text": [
      "100%|██████████| 599/599 [01:01<00:00,  9.76it/s]"
     ]
    },
    {
     "name": "stdout",
     "output_type": "stream",
     "text": [
      "NY-T ['neutral']\n"
     ]
    },
    {
     "name": "stderr",
     "output_type": "stream",
     "text": [
      "\n"
     ]
    }
   ],
   "execution_count": 353
  },
  {
   "metadata": {
    "ExecuteTime": {
     "end_time": "2025-02-09T14:36:59.735462Z",
     "start_time": "2025-02-09T14:36:59.731457Z"
    }
   },
   "cell_type": "code",
   "source": [
    "for key, res in papers_res.items():\n",
    "    print(f'{key}: {res}')"
   ],
   "id": "d379b522e64e1206",
   "outputs": [
    {
     "name": "stdout",
     "output_type": "stream",
     "text": [
      "A-J: {'pro_i': 0, 'pro_p': 7, 'anti_i': 96, 'anti_p': 79, 'neutral': 216}\n",
      "BBC: {'pro_i': 3, 'pro_p': 13, 'anti_i': 65, 'anti_p': 16, 'neutral': 431}\n",
      "J-P: {'pro_i': 0, 'pro_p': 194, 'anti_i': 49, 'anti_p': 13, 'neutral': 308}\n",
      "NY-T: {'pro_i': 17, 'pro_p': 25, 'anti_i': 136, 'anti_p': 80, 'neutral': 315}\n"
     ]
    }
   ],
   "execution_count": 354
  },
  {
   "metadata": {
    "ExecuteTime": {
     "end_time": "2025-02-09T14:37:01.853941Z",
     "start_time": "2025-02-09T14:37:01.489698Z"
    }
   },
   "cell_type": "code",
   "source": [
    "import matplotlib.pyplot as plt\n",
    "\n",
    "# Plotting and saving each pie chart separately\n",
    "for source, sentiments in papers_res.items():\n",
    "    labels = sentiments.keys()\n",
    "    sizes = sentiments.values()\n",
    "\n",
    "    plt.figure(figsize=(6, 6))\n",
    "    plt.pie(sizes, labels=labels, autopct='%1.1f%%', startangle=140)\n",
    "    plt.title(source)\n",
    "\n",
    "    # Save the chart to a file\n",
    "    plt.savefig(f'charts\\\\{source}_pie_chart.png')\n",
    "    plt.show()\n",
    "    plt.close()\n"
   ],
   "id": "a08ba8c14d62cb1",
   "outputs": [
    {
     "data": {
      "text/plain": [
       "<Figure size 600x600 with 1 Axes>"
      ],
      "image/png": "[encoded data removed]"
     },
     "metadata": {},
     "output_type": "display_data"
    },
    {
     "data": {
      "text/plain": [
       "<Figure size 600x600 with 1 Axes>"
      ],
      "image/png": "[encoded data removed]"
     },
     "metadata": {},
     "output_type": "display_data"
    },
    {
     "data": {
      "text/plain": [
       "<Figure size 600x600 with 1 Axes>"
      ],
      "image/png": "[encoded data removed]"
     },
     "metadata": {},
     "output_type": "display_data"
    },
    {
     "data": {
      "text/plain": [
       "<Figure size 600x600 with 1 Axes>"
      ],
      "image/png": "[encoded data removed]"
     },
     "metadata": {},
     "output_type": "display_data"
    }
   ],
   "execution_count": 355
  },
  {
   "metadata": {
    "ExecuteTime": {
     "end_time": "2025-02-09T14:43:09.032409Z",
     "start_time": "2025-02-09T14:43:09.028080Z"
    }
   },
   "cell_type": "code",
   "source": "len(articles_res)",
   "id": "c8a61af8d3419794",
   "outputs": [
    {
     "data": {
      "text/plain": [
       "5"
      ]
     },
     "execution_count": 358,
     "metadata": {},
     "output_type": "execute_result"
    }
   ],
   "execution_count": 358
  },
  {
   "metadata": {
    "ExecuteTime": {
     "end_time": "2025-02-09T14:46:32.987993Z",
     "start_time": "2025-02-09T14:46:32.861880Z"
    }
   },
   "cell_type": "code",
   "source": [
    "for key, articles in articles_res.items():\n",
    "    pd.DataFrame(articles).to_csv(f'res\\\\{key}.csv')"
   ],
   "id": "36445d3444e87457",
   "outputs": [],
   "execution_count": 365
  }
 ],
 "metadata": {
  "kernelspec": {
   "display_name": "Python 3",
   "language": "python",
   "name": "python3"
  },
  "language_info": {
   "codemirror_mode": {
    "name": "ipython",
    "version": 2
   },
   "file_extension": ".py",
   "mimetype": "text/x-python",
   "name": "python",
   "nbconvert_exporter": "python",
   "pygments_lexer": "ipython2",
   "version": "2.7.6"
  }
 },
 "nbformat": 4,
 "nbformat_minor": 5
}
